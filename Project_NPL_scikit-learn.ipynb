{
 "cells": [
  {
   "cell_type": "markdown",
   "metadata": {},
   "source": [
    "# Sueprvised learning with scikit-learn for text data\n",
    "\n",
    "scikit-learn can also be used for the text data. In addition to typical flags we also need to import\n",
    "\n",
    "from sklearn.feature_extraction.text import CountVectorizer\n",
    "\n",
    "CountVectorizer turn the sentences to the bag of words similar to Gensim corpus and also remove English stop words  as a preprocessing step.\n",
    "\n",
    "\n",
    "\n",
    "# scikit-learn plus Naive Bayes classifier\n",
    "This method is commonly used for NPL classification problems because it deals with the probabilities. \n",
    "\n",
    "Related flag:\n",
    "\n",
    "from sklearn.naive_bayes import MultinomialNB\n",
    "\n",
    "Multinomial Naive Bayes method work very well with countvectorizers as it expects integers inputs. MultinomialNB is also used for multiple label classification. This model may not work with floats such as tfidf weighted inputs. Instead use support vector machines or even linear models although it is recommened to test in advanced.\n",
    "\n"
   ]
  },
  {
   "cell_type": "code",
   "execution_count": 1,
   "metadata": {},
   "outputs": [],
   "source": [
    "import pandas as pd\n",
    "import numpy as np"
   ]
  },
  {
   "cell_type": "code",
   "execution_count": 6,
   "metadata": {},
   "outputs": [],
   "source": [
    "df = pd.read_csv(\"Newsarticles/IMDB_sample.csv\")"
   ]
  },
  {
   "cell_type": "code",
   "execution_count": 92,
   "metadata": {},
   "outputs": [
    {
     "name": "stdout",
     "output_type": "stream",
     "text": [
      "   Unnamed: 0                                             review  label\n",
      "0       18245  This short spoof can be found on Elite's Mille...      0\n",
      "1       19801  A singularly unfunny musical comedy that artif...      0\n",
      "2        3222  An excellent series, masterfully acted and dir...      1\n",
      "3        6010  The master of movie spectacle Cecil B. De Mill...      1\n",
      "4       16355  I was gifted with this movie as it had such a ...      0\n"
     ]
    }
   ],
   "source": [
    "# Print the head of df\n",
    "print(df.head())\n"
   ]
  },
  {
   "cell_type": "code",
   "execution_count": 112,
   "metadata": {
    "scrolled": true
   },
   "outputs": [
    {
     "name": "stdout",
     "output_type": "stream",
     "text": [
      "['00', '000', '000s', '007', '0080', '0083', '0093638', '00am', '00pm', '00s']\n"
     ]
    },
    {
     "data": {
      "image/png": "[encoded data removed]",
      "text/plain": [
       "<Figure size 432x288 with 1 Axes>"
      ]
     },
     "metadata": {
      "needs_background": "light"
     },
     "output_type": "display_data"
    }
   ],
   "source": [
    "# Import the necessary modules\n",
    "from sklearn.feature_extraction.text import CountVectorizer\n",
    "from sklearn.model_selection import train_test_split\n",
    "from sklearn.naive_bayes import MultinomialNB\n",
    "from sklearn import metrics\n",
    "import matplotlib.pyplot as plt\n",
    "\n",
    "\n",
    "# Create training and test sets\n",
    "X_train, X_test, y_train, y_test = train_test_split(df['review'], y, test_size=0.33, random_state=53)\n",
    "\n",
    "# Initialize a CountVectorizer object: count_vectorizer\n",
    "count_vectorizer = CountVectorizer(stop_words='english')\n",
    "\n",
    "# Transform the training data using only the 'text' column values: count_train \n",
    "count_train = count_vectorizer.fit_transform(X_train)\n",
    "\n",
    "# Transform the test data using only the 'text' column values: count_test \n",
    "count_test = count_vectorizer.transform(X_test)\n",
    "\n",
    "# Print the first 10 features of the count_vectorizer\n",
    "print(count_vectorizer.get_feature_names()[:10])\n",
    "\n",
    "\n",
    "# Create the list of alphas: alphas\n",
    "alphas = np.arange(0.1, 5, .1)\n",
    "\n",
    "# Define train_and_predict()\n",
    "def train_and_predict(alpha):\n",
    "    # Instantiate the classifier: nb_classifier\n",
    "    nb_classifier = MultinomialNB(alpha=alpha)\n",
    "    # Fit to the training data\n",
    "    nb_classifier.fit(count_train, y_train)\n",
    "    # Predict the labels: pred\n",
    "    pred = nb_classifier.predict(count_test)\n",
    "    # Compute accuracy: score\n",
    "    score = metrics.accuracy_score(y_test, pred)\n",
    "    return score\n",
    "\n",
    "# Iterate over the alphas and print the corresponding score\n",
    "scores = np.empty(0)\n",
    "for alpha in alphas:\n",
    "    # print('Alpha: ', alpha)\n",
    "    # print('Score: ', train_and_predict(alpha))\n",
    "    scores = np.append(scores, train_and_predict(alpha))\n",
    "   \n",
    "plt.scatter(alphas, scores)\n",
    "plt.show()\n",
    " "
   ]
  },
  {
   "cell_type": "code",
   "execution_count": 110,
   "metadata": {},
   "outputs": [
    {
     "name": "stdout",
     "output_type": "stream",
     "text": [
      "0.8505654281098546\n"
     ]
    },
    {
     "data": {
      "text/plain": [
       "array([[1087,  165],\n",
       "       [ 237,  987]])"
      ]
     },
     "execution_count": 110,
     "metadata": {},
     "output_type": "execute_result"
    }
   ],
   "source": [
    "\n",
    "nb_classifier = MultinomialNB(alpha=1.4)\n",
    "\n",
    "nb_classifier.fit(count_train, y_train)\n",
    "pred = nb_classifier.predict(count_test)\n",
    "metrics.accuracy_score(y_test, pred)\n",
    "print(score)\n",
    "\n",
    "metrics.confusion_matrix(y_test, pred, labels=[0,1])"
   ]
  },
  {
   "cell_type": "markdown",
   "metadata": {},
   "source": [
    "# TfidfVectorizer plus Naive Bayes classifier"
   ]
  },
  {
   "cell_type": "code",
   "execution_count": 108,
   "metadata": {
    "scrolled": false
   },
   "outputs": [
    {
     "data": {
      "image/png": "[encoded data removed]",
      "text/plain": [
       "<Figure size 432x288 with 1 Axes>"
      ]
     },
     "metadata": {
      "needs_background": "light"
     },
     "output_type": "display_data"
    }
   ],
   "source": [
    "# Import TfidfVectorizer\n",
    "from sklearn.feature_extraction.text import TfidfVectorizer\n",
    "\n",
    "# Initialize a TfidfVectorizer object: tfidf_vectorizer\n",
    "tfidf_vectorizer = TfidfVectorizer(stop_words='english', max_df=0.7)\n",
    "\n",
    "# Transform the training data: tfidf_train \n",
    "tfidf_train = tfidf_vectorizer.fit_transform(X_train)\n",
    "\n",
    "# Transform the test data: tfidf_test \n",
    "tfidf_test = tfidf_vectorizer.transform(X_test)\n",
    "\n",
    "\n",
    "# Create the list of alphas: alphas\n",
    "alphas = np.arange(0.1, 4, .1)\n",
    "\n",
    "# Define train_and_predict()\n",
    "def train_and_predict(alpha):\n",
    "    # Instantiate the classifier: nb_classifier\n",
    "    nb_classifier = MultinomialNB(alpha=alpha)\n",
    "    # Fit to the training data\n",
    "    nb_classifier.fit(tfidf_train, y_train)\n",
    "    # Predict the labels: pred\n",
    "    pred = nb_classifier.predict(tfidf_test)\n",
    "    # Compute accuracy: score\n",
    "    score = metrics.accuracy_score(y_test, pred)\n",
    "    return score\n",
    "\n",
    "# Iterate over the alphas and print the corresponding score\n",
    "scores = np.empty(0)\n",
    "for alpha in alphas:\n",
    "    # print('Alpha: ', alpha)\n",
    "    # print('Score: ', train_and_predict(alpha))\n",
    "    scores = np.append(scores, train_and_predict(alpha))\n",
    "   \n",
    "plt.scatter(alphas, scores)\n",
    "plt.show()\n",
    " \n"
   ]
  },
  {
   "cell_type": "code",
   "execution_count": 109,
   "metadata": {},
   "outputs": [
    {
     "name": "stdout",
     "output_type": "stream",
     "text": [
      "0.8505654281098546\n",
      "[[1125  127]\n",
      " [ 243  981]]\n"
     ]
    }
   ],
   "source": [
    "# Create a Multinomial Naive Bayes classifier: nb_classifier\n",
    "nb_classifier = MultinomialNB(alpha=1.4)\n",
    "\n",
    "# Fit the classifier to the training data\n",
    "nb_classifier.fit(tfidf_train, y_train)\n",
    "\n",
    "# Create the predicted tags: pred\n",
    "pred = nb_classifier.predict(tfidf_test)\n",
    "\n",
    "# Calculate the accuracy score: score\n",
    "score = metrics.accuracy_score(y_test, pred)\n",
    "print(score)\n",
    "\n",
    "# Calculate the confusion matrix: cm\n",
    "cm = metrics.confusion_matrix(y_test, pred, labels=[0,1])\n",
    "print(cm)\n",
    "\n"
   ]
  },
  {
   "cell_type": "markdown",
   "metadata": {},
   "source": [
    "We can map the important vector weights back to actual words using some simple inspection techniques."
   ]
  },
  {
   "cell_type": "code",
   "execution_count": 113,
   "metadata": {},
   "outputs": [
    {
     "name": "stdout",
     "output_type": "stream",
     "text": [
      "0 [(-12.399606113287975, '00s'), (-12.399606113287975, '08'), (-12.399606113287975, '100b'), (-12.399606113287975, '100mph'), (-12.399606113287975, '100th'), (-12.399606113287975, '102'), (-12.399606113287975, '105'), (-12.399606113287975, '1050'), (-12.399606113287975, '106'), (-12.399606113287975, '10mil'), (-12.399606113287975, '10s'), (-12.399606113287975, '111'), (-12.399606113287975, '114'), (-12.399606113287975, '11m'), (-12.399606113287975, '120'), (-12.399606113287975, '1201'), (-12.399606113287975, '1202'), (-12.399606113287975, '12383499143743701'), (-12.399606113287975, '12a'), (-12.399606113287975, '12m')]\n",
      "1 [(-6.146601817356299, 'character'), (-6.143856071534607, 'seen'), (-6.138387094271962, 'movies'), (-6.119477832857804, 'films'), (-6.114140216769319, 'think'), (-6.038550396974713, 'life'), (-6.010564630920834, 'way'), (-5.976359149754455, 'best'), (-5.962540413046858, 'love'), (-5.887648537011865, 'people'), (-5.745453593104755, 'really'), (-5.619359583186674, 'great'), (-5.5618135637080695, 'time'), (-5.523488939657703, 'story'), (-5.454417431726651, 'just'), (-5.353705104130569, 'good'), (-5.224881803451598, 'like'), (-4.464939161390266, 'movie'), (-4.383901321130551, 'film'), (-3.5251981236805374, 'br')]\n"
     ]
    }
   ],
   "source": [
    "# Get the class labels: class_labels\n",
    "class_labels = nb_classifier.classes_\n",
    "\n",
    "# Extract the features: feature_names\n",
    "feature_names = tfidf_vectorizer.get_feature_names()\n",
    "\n",
    "# Zip the feature names together with the coefficient array and sort by weights: feat_with_weights\n",
    "feat_with_weights = sorted(zip(nb_classifier.coef_[0], feature_names))\n",
    "\n",
    "# Print the first class label and the top 20 feat_with_weights entries\n",
    "print(class_labels[0], feat_with_weights[:20])\n",
    "\n",
    "# Print the second class label and the bottom 20 feat_with_weights entries\n",
    "print(class_labels[1], feat_with_weights[-20:])\n"
   ]
  },
  {
   "cell_type": "code",
   "execution_count": null,
   "metadata": {},
   "outputs": [],
   "source": []
  }
 ],
 "metadata": {
  "kernelspec": {
   "display_name": "Python 3",
   "language": "python",
   "name": "python3"
  },
  "language_info": {
   "codemirror_mode": {
    "name": "ipython",
    "version": 3
   },
   "file_extension": ".py",
   "mimetype": "text/x-python",
   "name": "python",
   "nbconvert_exporter": "python",
   "pygments_lexer": "ipython3",
   "version": "3.6.9"
  }
 },
 "nbformat": 4,
 "nbformat_minor": 2
}
